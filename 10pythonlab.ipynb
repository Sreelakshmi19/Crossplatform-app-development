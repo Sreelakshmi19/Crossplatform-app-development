{
  "nbformat": 4,
  "nbformat_minor": 0,
  "metadata": {
    "colab": {
      "name": "10pythonlab.ipynb",
      "provenance": []
    },
    "kernelspec": {
      "name": "python3",
      "display_name": "Python 3"
    },
    "language_info": {
      "name": "python"
    }
  },
  "cells": [
    {
      "cell_type": "markdown",
      "metadata": {
        "id": "rJz8ViDpozLL"
      },
      "source": [
        "# **OPERATIONS**"
      ]
    },
    {
      "cell_type": "code",
      "metadata": {
        "colab": {
          "base_uri": "https://localhost:8080/"
        },
        "id": "2ahy3JD0l6-t",
        "outputId": "7e9e5d05-bfd2-47c6-91dc-8b26f3db8aca"
      },
      "source": [
        "x=10\n",
        "y=20\n",
        "x+y"
      ],
      "execution_count": 1,
      "outputs": [
        {
          "output_type": "execute_result",
          "data": {
            "text/plain": [
              "30"
            ]
          },
          "metadata": {},
          "execution_count": 1
        }
      ]
    },
    {
      "cell_type": "code",
      "metadata": {
        "colab": {
          "base_uri": "https://localhost:8080/"
        },
        "id": "KXbRwoFTnbDg",
        "outputId": "531c98b4-a80a-42aa-8221-9674b02c33d5"
      },
      "source": [
        "type(x)"
      ],
      "execution_count": 2,
      "outputs": [
        {
          "output_type": "execute_result",
          "data": {
            "text/plain": [
              "int"
            ]
          },
          "metadata": {},
          "execution_count": 2
        }
      ]
    },
    {
      "cell_type": "code",
      "metadata": {
        "colab": {
          "base_uri": "https://localhost:8080/"
        },
        "id": "gJhSn1kinesT",
        "outputId": "9e6e2831-7e95-400a-d162-2a9fee20cfe5"
      },
      "source": [
        "y=10.00\n",
        "type(y)"
      ],
      "execution_count": 3,
      "outputs": [
        {
          "output_type": "execute_result",
          "data": {
            "text/plain": [
              "float"
            ]
          },
          "metadata": {},
          "execution_count": 3
        }
      ]
    },
    {
      "cell_type": "markdown",
      "metadata": {
        "id": "C_g-bCdVo5DT"
      },
      "source": [
        "# **STRING**"
      ]
    },
    {
      "cell_type": "code",
      "metadata": {
        "colab": {
          "base_uri": "https://localhost:8080/"
        },
        "id": "ubciyxqmnoGu",
        "outputId": "028b3a0f-40b6-4690-878e-0eaf2ed4df54"
      },
      "source": [
        "x=\"My\"\n",
        "y=\"name\"\n",
        "z=\"is Sreelakshmi\"\n",
        "w= x+\" \"+y+\" \"+z\n",
        "print(w)"
      ],
      "execution_count": 11,
      "outputs": [
        {
          "output_type": "stream",
          "name": "stdout",
          "text": [
            "My name is Sreelakshmi\n"
          ]
        }
      ]
    },
    {
      "cell_type": "code",
      "metadata": {
        "colab": {
          "base_uri": "https://localhost:8080/",
          "height": 35
        },
        "id": "SNRyu3oKn7EF",
        "outputId": "0c17055e-8aad-41df-a56e-35c6f30b786c"
      },
      "source": [
        "x[1]"
      ],
      "execution_count": 8,
      "outputs": [
        {
          "output_type": "execute_result",
          "data": {
            "application/vnd.google.colaboratory.intrinsic+json": {
              "type": "string"
            },
            "text/plain": [
              "'y'"
            ]
          },
          "metadata": {},
          "execution_count": 8
        }
      ]
    },
    {
      "cell_type": "code",
      "metadata": {
        "colab": {
          "base_uri": "https://localhost:8080/",
          "height": 35
        },
        "id": "eTl1ChJboDMN",
        "outputId": "d8858769-29f1-427c-d224-3cf1c5e5dbdb"
      },
      "source": [
        "z[5]"
      ],
      "execution_count": 9,
      "outputs": [
        {
          "output_type": "execute_result",
          "data": {
            "application/vnd.google.colaboratory.intrinsic+json": {
              "type": "string"
            },
            "text/plain": [
              "'e'"
            ]
          },
          "metadata": {},
          "execution_count": 9
        }
      ]
    },
    {
      "cell_type": "code",
      "metadata": {
        "colab": {
          "base_uri": "https://localhost:8080/",
          "height": 35
        },
        "id": "2f9DnGOnoIX1",
        "outputId": "3163fb56-a35d-4979-ced3-d6126683af9c"
      },
      "source": [
        "z[0:7]"
      ],
      "execution_count": 10,
      "outputs": [
        {
          "output_type": "execute_result",
          "data": {
            "application/vnd.google.colaboratory.intrinsic+json": {
              "type": "string"
            },
            "text/plain": [
              "'is Sree'"
            ]
          },
          "metadata": {},
          "execution_count": 10
        }
      ]
    },
    {
      "cell_type": "code",
      "metadata": {
        "colab": {
          "base_uri": "https://localhost:8080/",
          "height": 35
        },
        "id": "mBiKwlpQoSIq",
        "outputId": "6f7268b3-95ba-49d4-dbdf-fd31cca780e8"
      },
      "source": [
        "w[0:9]"
      ],
      "execution_count": 12,
      "outputs": [
        {
          "output_type": "execute_result",
          "data": {
            "application/vnd.google.colaboratory.intrinsic+json": {
              "type": "string"
            },
            "text/plain": [
              "'My name i'"
            ]
          },
          "metadata": {},
          "execution_count": 12
        }
      ]
    },
    {
      "cell_type": "code",
      "metadata": {
        "colab": {
          "base_uri": "https://localhost:8080/",
          "height": 35
        },
        "id": "8e78TPh6ofv6",
        "outputId": "90affd16-5e78-4472-9d59-8d97a299afe9"
      },
      "source": [
        "w[-5]"
      ],
      "execution_count": 13,
      "outputs": [
        {
          "output_type": "execute_result",
          "data": {
            "application/vnd.google.colaboratory.intrinsic+json": {
              "type": "string"
            },
            "text/plain": [
              "'k'"
            ]
          },
          "metadata": {},
          "execution_count": 13
        }
      ]
    },
    {
      "cell_type": "markdown",
      "metadata": {
        "id": "RJtM44QgouMb"
      },
      "source": [
        "# **LISTS**"
      ]
    },
    {
      "cell_type": "code",
      "metadata": {
        "colab": {
          "base_uri": "https://localhost:8080/"
        },
        "id": "3c2MqTuEopJX",
        "outputId": "694276bd-9e12-48e1-cd04-31956b1e544d"
      },
      "source": [
        "x=[1,2,3,4,5,6,7,8,9,10]\n",
        "x[5]"
      ],
      "execution_count": 16,
      "outputs": [
        {
          "output_type": "execute_result",
          "data": {
            "text/plain": [
              "6"
            ]
          },
          "metadata": {},
          "execution_count": 16
        }
      ]
    },
    {
      "cell_type": "code",
      "metadata": {
        "colab": {
          "base_uri": "https://localhost:8080/"
        },
        "id": "y1_4SLwRpBAe",
        "outputId": "b27f4909-e2ba-4e2c-d79c-5fd95c094974"
      },
      "source": [
        "x[0:8]"
      ],
      "execution_count": 17,
      "outputs": [
        {
          "output_type": "execute_result",
          "data": {
            "text/plain": [
              "[1, 2, 3, 4, 5, 6, 7, 8]"
            ]
          },
          "metadata": {},
          "execution_count": 17
        }
      ]
    },
    {
      "cell_type": "code",
      "metadata": {
        "colab": {
          "base_uri": "https://localhost:8080/"
        },
        "id": "J1uxmB2fpSi-",
        "outputId": "ed0ab3a2-b372-492a-8e7b-e6bf2c17a5dc"
      },
      "source": [
        "x[-8]"
      ],
      "execution_count": 18,
      "outputs": [
        {
          "output_type": "execute_result",
          "data": {
            "text/plain": [
              "3"
            ]
          },
          "metadata": {},
          "execution_count": 18
        }
      ]
    },
    {
      "cell_type": "code",
      "metadata": {
        "colab": {
          "base_uri": "https://localhost:8080/"
        },
        "id": "WLiRSsi5p5K9",
        "outputId": "618ff962-db72-4b9f-dd67-4e42e572e0eb"
      },
      "source": [
        "len(x)"
      ],
      "execution_count": 21,
      "outputs": [
        {
          "output_type": "execute_result",
          "data": {
            "text/plain": [
              "10"
            ]
          },
          "metadata": {},
          "execution_count": 21
        }
      ]
    },
    {
      "cell_type": "code",
      "metadata": {
        "colab": {
          "base_uri": "https://localhost:8080/"
        },
        "id": "KLosX6Mppfaf",
        "outputId": "4b2924f6-ddec-4b78-803f-9eacae2007ed"
      },
      "source": [
        "y=[\"ann\",2,4,7,\"leo\",90,\"john\"]\n",
        "len(y)"
      ],
      "execution_count": 20,
      "outputs": [
        {
          "output_type": "execute_result",
          "data": {
            "text/plain": [
              "7"
            ]
          },
          "metadata": {},
          "execution_count": 20
        }
      ]
    },
    {
      "cell_type": "code",
      "metadata": {
        "colab": {
          "base_uri": "https://localhost:8080/"
        },
        "id": "GvC1tCK4p0kG",
        "outputId": "8d4a07bf-ca34-4ba5-f8e1-bd0b73a79ec4"
      },
      "source": [
        "y=[\"ann\",2,4,7,\"leo\",90,\"john\"]\n",
        "y.append(\"rose\")\n",
        "y"
      ],
      "execution_count": 27,
      "outputs": [
        {
          "output_type": "execute_result",
          "data": {
            "text/plain": [
              "['ann', 2, 4, 7, 'leo', 90, 'john', 'rose']"
            ]
          },
          "metadata": {},
          "execution_count": 27
        }
      ]
    },
    {
      "cell_type": "code",
      "metadata": {
        "colab": {
          "base_uri": "https://localhost:8080/"
        },
        "id": "KuYlf-qPqAjy",
        "outputId": "1ea67952-f223-4290-88d4-a2cfef344141"
      },
      "source": [
        "y=[\"ann\",2,\"leo\",4,7,\"leo\",90,\"john\",\"leo\"]\n",
        "y.count(\"leo\")"
      ],
      "execution_count": 28,
      "outputs": [
        {
          "output_type": "execute_result",
          "data": {
            "text/plain": [
              "3"
            ]
          },
          "metadata": {},
          "execution_count": 28
        }
      ]
    },
    {
      "cell_type": "code",
      "metadata": {
        "colab": {
          "base_uri": "https://localhost:8080/"
        },
        "id": "rbHqIGv5qjZ2",
        "outputId": "0ba56733-fcaa-49da-e1dc-bf57c201af29"
      },
      "source": [
        "y=[\"ann\",2,4,7,\"leo\",90,\"john\"]\n",
        "type(y)"
      ],
      "execution_count": 29,
      "outputs": [
        {
          "output_type": "execute_result",
          "data": {
            "text/plain": [
              "list"
            ]
          },
          "metadata": {},
          "execution_count": 29
        }
      ]
    },
    {
      "cell_type": "code",
      "metadata": {
        "colab": {
          "base_uri": "https://localhost:8080/"
        },
        "id": "xTKWJOauqm-w",
        "outputId": "4b1e7c51-ea8f-4bd4-f567-4d94781c2195"
      },
      "source": [
        "y=[\"ann\",2,4,7,\"leo\",90,\"john\"]\n",
        "x=y.copy()\n",
        "x"
      ],
      "execution_count": 31,
      "outputs": [
        {
          "output_type": "execute_result",
          "data": {
            "text/plain": [
              "['ann', 2, 4, 7, 'leo', 90, 'john']"
            ]
          },
          "metadata": {},
          "execution_count": 31
        }
      ]
    },
    {
      "cell_type": "code",
      "metadata": {
        "colab": {
          "base_uri": "https://localhost:8080/"
        },
        "id": "K4DJntEgqy8f",
        "outputId": "c62cb92c-37b0-4974-de7e-8704ad97de65"
      },
      "source": [
        "y=[\"ann\",2,4,7,\"leo\",90,\"john\"]\n",
        "y.extend(\"sree\")\n",
        "y"
      ],
      "execution_count": 33,
      "outputs": [
        {
          "output_type": "execute_result",
          "data": {
            "text/plain": [
              "['ann', 2, 4, 7, 'leo', 90, 'john', 's', 'r', 'e', 'e']"
            ]
          },
          "metadata": {},
          "execution_count": 33
        }
      ]
    },
    {
      "cell_type": "code",
      "metadata": {
        "colab": {
          "base_uri": "https://localhost:8080/"
        },
        "id": "rltImnnGq6yD",
        "outputId": "1738edda-b814-48af-8e25-d713d09c17bc"
      },
      "source": [
        "y=['ann', 2, 4, 7, 'leo', 90, 'john', 's', 'r', 'e', 'e']\n",
        "y.insert(9,\"sree\")\n",
        "y"
      ],
      "execution_count": 34,
      "outputs": [
        {
          "output_type": "execute_result",
          "data": {
            "text/plain": [
              "['ann', 2, 4, 7, 'leo', 90, 'john', 's', 'r', 'sree', 'e', 'e']"
            ]
          },
          "metadata": {},
          "execution_count": 34
        }
      ]
    },
    {
      "cell_type": "code",
      "metadata": {
        "colab": {
          "base_uri": "https://localhost:8080/",
          "height": 35
        },
        "id": "f0zY5ScnyAvP",
        "outputId": "5bb171a7-5374-4cff-9ec5-230289162e4e"
      },
      "source": [
        "x=[\"sree\",[1,8,9,3]]\n",
        "x[0]"
      ],
      "execution_count": 36,
      "outputs": [
        {
          "output_type": "execute_result",
          "data": {
            "application/vnd.google.colaboratory.intrinsic+json": {
              "type": "string"
            },
            "text/plain": [
              "'sree'"
            ]
          },
          "metadata": {},
          "execution_count": 36
        }
      ]
    },
    {
      "cell_type": "code",
      "metadata": {
        "colab": {
          "base_uri": "https://localhost:8080/"
        },
        "id": "Ncb-sxTyyi6R",
        "outputId": "dc3427f1-cbf1-4363-fea4-0126c5b9c391"
      },
      "source": [
        "x[0:2]"
      ],
      "execution_count": 37,
      "outputs": [
        {
          "output_type": "execute_result",
          "data": {
            "text/plain": [
              "['sree', [1, 8, 9, 3]]"
            ]
          },
          "metadata": {},
          "execution_count": 37
        }
      ]
    },
    {
      "cell_type": "code",
      "metadata": {
        "colab": {
          "base_uri": "https://localhost:8080/"
        },
        "id": "aLlubqAVypr-",
        "outputId": "f527c479-0754-4a06-860c-4aa199c63f9d"
      },
      "source": [
        "x[1][2]"
      ],
      "execution_count": 38,
      "outputs": [
        {
          "output_type": "execute_result",
          "data": {
            "text/plain": [
              "9"
            ]
          },
          "metadata": {},
          "execution_count": 38
        }
      ]
    },
    {
      "cell_type": "code",
      "metadata": {
        "colab": {
          "base_uri": "https://localhost:8080/",
          "height": 35
        },
        "id": "JVStOvo-yxa2",
        "outputId": "5f3b062f-b188-431e-fe23-a85ac517d784"
      },
      "source": [
        "x[0][2]"
      ],
      "execution_count": 39,
      "outputs": [
        {
          "output_type": "execute_result",
          "data": {
            "application/vnd.google.colaboratory.intrinsic+json": {
              "type": "string"
            },
            "text/plain": [
              "'e'"
            ]
          },
          "metadata": {},
          "execution_count": 39
        }
      ]
    },
    {
      "cell_type": "code",
      "metadata": {
        "colab": {
          "base_uri": "https://localhost:8080/"
        },
        "id": "dUyUwEWDy1vK",
        "outputId": "4c06f6c6-2323-4ddd-d473-de7c674b91a5"
      },
      "source": [
        "x=[1,2,3,4,5,6,7,8,9,52,48,89,99,75,48]\n",
        "max(x)"
      ],
      "execution_count": 42,
      "outputs": [
        {
          "output_type": "execute_result",
          "data": {
            "text/plain": [
              "99"
            ]
          },
          "metadata": {},
          "execution_count": 42
        }
      ]
    },
    {
      "cell_type": "code",
      "metadata": {
        "colab": {
          "base_uri": "https://localhost:8080/"
        },
        "id": "wVHJUU5bzdVM",
        "outputId": "718643ce-37d1-4657-cd0d-c0e5f553ccd1"
      },
      "source": [
        "min(x)"
      ],
      "execution_count": 43,
      "outputs": [
        {
          "output_type": "execute_result",
          "data": {
            "text/plain": [
              "1"
            ]
          },
          "metadata": {},
          "execution_count": 43
        }
      ]
    },
    {
      "cell_type": "markdown",
      "metadata": {
        "id": "lUd96Qu6zm_9"
      },
      "source": [
        "# for **loop** ****"
      ]
    },
    {
      "cell_type": "code",
      "metadata": {
        "colab": {
          "base_uri": "https://localhost:8080/"
        },
        "id": "PV1-t4OQzgzj",
        "outputId": "bd739e69-e589-463d-c433-c0388ba2cc89"
      },
      "source": [
        "x=[1,2,3,4,5,6,7,8,9,10]\n",
        "for i in x:\n",
        " print(i)\n"
      ],
      "execution_count": 47,
      "outputs": [
        {
          "output_type": "stream",
          "name": "stdout",
          "text": [
            "1\n",
            "2\n",
            "3\n",
            "4\n",
            "5\n",
            "6\n",
            "7\n",
            "8\n",
            "9\n",
            "10\n"
          ]
        }
      ]
    },
    {
      "cell_type": "code",
      "metadata": {
        "colab": {
          "base_uri": "https://localhost:8080/"
        },
        "id": "V-zU_YQe0zCS",
        "outputId": "7cd2fdef-d270-4c79-ef80-5b3ac5438197"
      },
      "source": [
        "x=[1,2,3,4,5,6,7,8,9,10]\n",
        "sum =0\n",
        "for i in x:\n",
        "  sum=sum+i\n",
        "  print(sum)"
      ],
      "execution_count": 50,
      "outputs": [
        {
          "output_type": "stream",
          "name": "stdout",
          "text": [
            "1\n",
            "3\n",
            "6\n",
            "10\n",
            "15\n",
            "21\n",
            "28\n",
            "36\n",
            "45\n",
            "55\n"
          ]
        }
      ]
    },
    {
      "cell_type": "code",
      "metadata": {
        "colab": {
          "base_uri": "https://localhost:8080/"
        },
        "id": "boJ4hqy31Rb6",
        "outputId": "14531939-cfa5-418a-e025-829556d6e1d0"
      },
      "source": [
        "x=range(0,101)\n",
        "sum=0\n",
        "for i in x:\n",
        "  sum=sum+i\n",
        "print(sum)\n",
        "\n"
      ],
      "execution_count": 52,
      "outputs": [
        {
          "output_type": "stream",
          "name": "stdout",
          "text": [
            "5050\n"
          ]
        }
      ]
    },
    {
      "cell_type": "markdown",
      "metadata": {
        "id": "0m8PygU2ggTr"
      },
      "source": [
        "# **while**"
      ]
    },
    {
      "cell_type": "code",
      "metadata": {
        "colab": {
          "base_uri": "https://localhost:8080/"
        },
        "id": "hcR6kD8q5fEJ",
        "outputId": "71afac7b-7437-4805-fe73-b6a2b2f93109"
      },
      "source": [
        "i=0\n",
        "sum=0\n",
        "while i<101:\n",
        "  sum=sum+i\n",
        "  i=i+1\n",
        "print(sum)"
      ],
      "execution_count": 3,
      "outputs": [
        {
          "output_type": "stream",
          "name": "stdout",
          "text": [
            "5050\n"
          ]
        }
      ]
    },
    {
      "cell_type": "code",
      "metadata": {
        "colab": {
          "base_uri": "https://localhost:8080/"
        },
        "id": "4RHhJnLzgtZc",
        "outputId": "2aad3275-6007-4bf6-a15c-33798df65d60"
      },
      "source": [
        "i=0\n",
        "while i<10:\n",
        "  i=i+1\n",
        "  print(i)"
      ],
      "execution_count": 5,
      "outputs": [
        {
          "output_type": "stream",
          "name": "stdout",
          "text": [
            "1\n",
            "2\n",
            "3\n",
            "4\n",
            "5\n",
            "6\n",
            "7\n",
            "8\n",
            "9\n",
            "10\n"
          ]
        }
      ]
    }
  ]
}