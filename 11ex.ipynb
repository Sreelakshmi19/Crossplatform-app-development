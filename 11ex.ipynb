{
  "nbformat": 4,
  "nbformat_minor": 0,
  "metadata": {
    "colab": {
      "name": "11ex.ipynb",
      "provenance": []
    },
    "kernelspec": {
      "name": "python3",
      "display_name": "Python 3"
    },
    "language_info": {
      "name": "python"
    }
  },
  "cells": [
    {
      "cell_type": "code",
      "metadata": {
        "colab": {
          "base_uri": "https://localhost:8080/"
        },
        "id": "WCkLGIGyJH8o",
        "outputId": "76fddf0d-193f-42f1-dbea-b0e2880f7551"
      },
      "source": [
        "def india():\n",
        "    print(\"hi\")\n",
        "india()"
      ],
      "execution_count": 2,
      "outputs": [
        {
          "output_type": "stream",
          "name": "stdout",
          "text": [
            "hi\n"
          ]
        }
      ]
    },
    {
      "cell_type": "code",
      "metadata": {
        "colab": {
          "base_uri": "https://localhost:8080/"
        },
        "id": "aqIuoD6gRITr",
        "outputId": "9ddaa819-8060-4306-8320-3183f3404ed6"
      },
      "source": [
        "x=20\n",
        "y=30\n",
        "z=x+y\n",
        "z"
      ],
      "execution_count": 3,
      "outputs": [
        {
          "output_type": "execute_result",
          "data": {
            "text/plain": [
              "50"
            ]
          },
          "metadata": {},
          "execution_count": 3
        }
      ]
    },
    {
      "cell_type": "code",
      "metadata": {
        "colab": {
          "base_uri": "https://localhost:8080/"
        },
        "id": "1CKIvQSpRNIk",
        "outputId": "8a703c12-6a5f-4217-b48a-4e9865a0ab5b"
      },
      "source": [
        "india()"
      ],
      "execution_count": 4,
      "outputs": [
        {
          "output_type": "stream",
          "name": "stdout",
          "text": [
            "hi\n"
          ]
        }
      ]
    },
    {
      "cell_type": "code",
      "metadata": {
        "colab": {
          "base_uri": "https://localhost:8080/"
        },
        "id": "EmfMLMHGROzY",
        "outputId": "e62c6278-1368-4906-bcd0-4373b39a8f0e"
      },
      "source": [
        "def sree():\n",
        "  print(\"i am sree\")\n",
        "sree()"
      ],
      "execution_count": 5,
      "outputs": [
        {
          "output_type": "stream",
          "name": "stdout",
          "text": [
            "i am sree\n"
          ]
        }
      ]
    },
    {
      "cell_type": "code",
      "metadata": {
        "id": "J97sEwJNRZbn"
      },
      "source": [
        "def sum(x,y):\n",
        "  z=x+y\n",
        "  print(z)"
      ],
      "execution_count": 6,
      "outputs": []
    },
    {
      "cell_type": "code",
      "metadata": {
        "colab": {
          "base_uri": "https://localhost:8080/"
        },
        "id": "T9T157XxR6cS",
        "outputId": "2b5eb52e-8cf9-49a3-b9f7-4648706e92bd"
      },
      "source": [
        "sum(10,15)"
      ],
      "execution_count": 9,
      "outputs": [
        {
          "output_type": "stream",
          "name": "stdout",
          "text": [
            "25\n"
          ]
        }
      ]
    },
    {
      "cell_type": "code",
      "metadata": {
        "colab": {
          "base_uri": "https://localhost:8080/"
        },
        "id": "190ZozsCSDXg",
        "outputId": "7bd8e649-7e2d-4309-85e6-3e0edaa8f9df"
      },
      "source": [
        "sum(23,1)"
      ],
      "execution_count": 10,
      "outputs": [
        {
          "output_type": "stream",
          "name": "stdout",
          "text": [
            "24\n"
          ]
        }
      ]
    },
    {
      "cell_type": "code",
      "metadata": {
        "colab": {
          "base_uri": "https://localhost:8080/"
        },
        "id": "Fgy8W7lASQUF",
        "outputId": "8572f4ed-9ad3-44e5-d1f4-ab09be1d0fc7"
      },
      "source": [
        "x=9\n",
        "y=90\n",
        "x+y"
      ],
      "execution_count": 12,
      "outputs": [
        {
          "output_type": "execute_result",
          "data": {
            "text/plain": [
              "99"
            ]
          },
          "metadata": {},
          "execution_count": 12
        }
      ]
    },
    {
      "cell_type": "code",
      "metadata": {
        "colab": {
          "base_uri": "https://localhost:8080/"
        },
        "id": "UHPYZXIkSUMu",
        "outputId": "53f24db7-f261-4248-b782-65c08f5c8771"
      },
      "source": [
        "sum(200,12)"
      ],
      "execution_count": 13,
      "outputs": [
        {
          "output_type": "stream",
          "name": "stdout",
          "text": [
            "212\n"
          ]
        }
      ]
    },
    {
      "cell_type": "code",
      "metadata": {
        "id": "d7o3j8riSYMR"
      },
      "source": [
        ""
      ],
      "execution_count": 14,
      "outputs": []
    }
  ]
}